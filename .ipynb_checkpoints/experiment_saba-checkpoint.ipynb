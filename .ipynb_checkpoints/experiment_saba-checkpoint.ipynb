{
 "cells": [
  {
   "cell_type": "markdown",
   "metadata": {
    "deletable": true,
    "editable": true
   },
   "source": [
    "<h2>Experimenting with Saba: astropy-Sherpa interface </h2>"
   ]
  },
  {
   "cell_type": "markdown",
   "metadata": {
    "deletable": true,
    "editable": true
   },
   "source": [
    "Here we repeat some tests in experiment_redshift.ipynb, replacing the astropy fitter used there (LevMarLSQFitter) with any one of the Sherpa optimizers."
   ]
  },
  {
   "cell_type": "code",
   "execution_count": 1,
   "metadata": {
    "collapsed": false,
    "deletable": true,
    "editable": true,
    "scrolled": false
   },
   "outputs": [
    {
     "name": "stdout",
     "output_type": "stream",
     "text": [
      "('INPUT MODEL: ', <CompoundModel0(z_0=-0.16666666666666663, amplitude_1=100.0, mean_1=6500.0, stddev_1=165.0, name=u'')>)\n",
      "('FITTED MODEL: ', <CompoundModel0(z_0=-0.14836674921642418, amplitude_1=99.70399679088663, mean_1=6642.607641396579, stddev_1=169.26398350342583, name=u'')>)\n",
      "('FITTED z: ', 0.17421436877894814)\n"
     ]
    },
    {
     "data": {
      "text/plain": [
       "<matplotlib.legend.Legend at 0x1133f71d0>"
      ]
     },
     "execution_count": 1,
     "metadata": {},
     "output_type": "execute_result"
    },
    {
     "data": {
      "image/png": "[encoded data removed]",
      "text/plain": [
       "<matplotlib.figure.Figure at 0x113266b50>"
      ]
     },
     "metadata": {},
     "output_type": "display_data"
    }
   ],
   "source": [
    "from astropy.modeling.fitting import SherpaFitter\n",
    "\n",
    "import numpy as np\n",
    "from astropy.modeling.models import Gaussian1D, RedshiftScaleFactor, Linear1D\n",
    "import matplotlib.pyplot as plt\n",
    "%matplotlib inline\n",
    "\n",
    "np.random.seed(0)\n",
    "x = np.linspace(5000, 11000, 100)\n",
    "g0 = Gaussian1D(100, 6500 * 1.2, 200) \n",
    "y = g0(x)\n",
    "y += np.random.normal(0., 1., x.shape)\n",
    "\n",
    "g1 = Gaussian1D(100, 6500, 165.)\n",
    "z = 0.2\n",
    "rs = RedshiftScaleFactor(z).inverse\n",
    "g_c = rs | g1\n",
    "\n",
    "fitter = SherpaFitter(statistic='leastsq', optimizer='levmar', estmethod='confidence')\n",
    "g_fit = fitter(g_c, x, y)\n",
    "\n",
    "print(\"INPUT MODEL: \", g_c)\n",
    "print(\"FITTED MODEL: \", g_fit)\n",
    "fitted_z = RedshiftScaleFactor(g_fit.parameters[0]).inverse.z.value\n",
    "print(\"FITTED z: \", fitted_z)\n",
    "\n",
    "plt.figure(figsize=(8, 5))  \n",
    "plt.plot(x, y, 'blue', label='Data')\n",
    "plt.plot(x, g1(x), 'y--', label='Model (z=0)')\n",
    "plt.plot(x, g_c(x), 'g--', label='Model (z=%3.1f)'%z)\n",
    "plt.plot(x, g_fit(x), 'r', label='Fit (z=%3.1f)'%fitted_z)\n",
    "plt.xlabel('Wavelength')\n",
    "plt.ylabel('Flux density')\n",
    "plt.legend()\n"
   ]
  },
  {
   "cell_type": "code",
   "execution_count": 2,
   "metadata": {
    "collapsed": false,
    "deletable": true,
    "editable": true,
    "scrolled": false
   },
   "outputs": [
    {
     "name": "stdout",
     "output_type": "stream",
     "text": [
      "0.00   100.0    0.20  -165.6    \n",
      "0.00   120.0    0.03  -26.3    \n",
      "0.00   140.0    0.20  165.6   *\n",
      "0.00   160.0    0.20  165.6   *\n",
      "0.00   180.0    0.03  30.1    \n",
      "0.00   200.0    0.03  27.8    \n",
      "0.00   220.0    0.03  29.0    \n",
      "0.00   240.0    0.20  165.6   *\n",
      "0.00   260.0    -0.08  -22.0    \n",
      "0.10   100.0    0.07  -31.9    \n",
      "0.10   120.0    0.07  -31.8    \n",
      "0.10   140.0    0.03  29.8    \n",
      "0.10   160.0    0.03  -21.7    \n",
      "0.10   180.0    0.03  -28.3    \n",
      "0.10   200.0    0.03  -27.4    \n",
      "0.10   220.0    0.03  -22.3    \n",
      "0.10   240.0    0.01   4.2    \n",
      "0.10   260.0    -0.01   9.8    \n",
      "0.15   100.0    0.20  165.6   *\n",
      "0.15   120.0    0.20  165.6   *\n",
      "0.15   140.0    0.20  165.6   *\n",
      "0.15   160.0    0.20  165.6   *\n",
      "0.15   180.0    0.20  165.6   *\n",
      "0.15   200.0    0.20  165.6   *\n",
      "0.15   220.0    0.20  165.6   *\n",
      "0.15   240.0    0.20  165.6   *\n",
      "0.15   260.0    0.20  165.6   *\n",
      "0.20   100.0    0.20  165.6   *\n",
      "0.20   120.0    0.20  165.6   *\n",
      "0.20   140.0    0.20  165.6   *\n",
      "0.20   160.0    0.20  165.6   *\n",
      "0.20   180.0    0.20  165.6   *\n",
      "0.20   200.0    0.20  165.6   *\n",
      "0.20   220.0    0.20  165.6   *\n",
      "0.20   240.0    0.20  165.6   *\n",
      "0.20   260.0    0.20  165.6   *\n",
      "0.25   100.0    0.20  165.6   *\n",
      "0.25   120.0    0.20  165.6   *\n",
      "0.25   140.0    0.20  165.6   *\n",
      "0.25   160.0    0.20  165.6   *\n",
      "0.25   180.0    0.20  165.6   *\n",
      "0.25   200.0    0.20  165.6   *\n",
      "0.25   220.0    0.20  165.6   *\n",
      "0.25   240.0    0.20  165.6   *\n",
      "0.25   260.0    0.20  165.6   *\n",
      "0.30   100.0    0.36  -109.1    \n",
      "0.30   120.0    0.36  -108.0    \n",
      "0.30   140.0    0.36  -109.3    \n",
      "0.30   160.0    0.36  -110.1    \n",
      "0.30   180.0    0.36  -110.1    \n",
      "0.30   200.0    0.36  -109.2    \n",
      "0.30   220.0    0.44  -8.6    \n",
      "0.30   240.0    0.48  65.4    \n",
      "0.30   260.0    0.45  -3.6    \n",
      "0.40   100.0    0.35  18.6    \n",
      "0.40   120.0    0.36  107.7    \n",
      "0.40   140.0    0.36  109.2    \n",
      "0.40   160.0    0.36  106.8    \n",
      "0.40   180.0    0.36  109.0    \n",
      "0.40   200.0    0.36  110.1    \n",
      "0.40   220.0    0.40  -8.0    \n",
      "0.40   240.0    0.42  -1.7    \n",
      "0.40   260.0    0.48  63.0    \n"
     ]
    }
   ],
   "source": [
    "np.random.seed(0)\n",
    "x = np.linspace(5000, 11000, 100)\n",
    "g0 = Gaussian1D(100, 6500 * 1.2, 200) \n",
    "y = g0(x)\n",
    "y += np.random.normal(0., 1., x.shape)\n",
    "\n",
    "for z in (0.0, 0.1, 0.15, 0.2, 0.25, 0.3, 0.4):\n",
    "    for sigma in (100., 120., 140., 160., 180., 200., 220., 240., 260.):\n",
    "        g1 = Gaussian1D(100., 6500., sigma)\n",
    "        rs = RedshiftScaleFactor(z).inverse\n",
    "        g_c = rs | g1\n",
    "\n",
    "        g_c.fixed['mean_1'] = True\n",
    "        fitter = SherpaFitter(statistic='leastsq', optimizer='levmar', estmethod='confidence')\n",
    "        g_fit = fitter(g_c, x, y)\n",
    "        fitted_z =  RedshiftScaleFactor(g_fit.parameters[0]).inverse.z.value\n",
    "        fitted_sigma = g_fit.stddev_1.value\n",
    "        \n",
    "        hit = '*' if (fitted_z>0.19 and fitted_z<0.21) and (fitted_sigma>160. and fitted_sigma<170.) else ' '\n",
    "        print(\"%4.2f   %5.1f    %4.2f  %4.1f   %s\" % (z, sigma, fitted_z, fitted_sigma, hit))"
   ]
  },
  {
   "cell_type": "code",
   "execution_count": 3,
   "metadata": {
    "collapsed": false,
    "deletable": true,
    "editable": true
   },
   "outputs": [
    {
     "name": "stdout",
     "output_type": "stream",
     "text": [
      "Model: CompoundModel64\n",
      "Inputs: (u'x',)\n",
      "Outputs: (u'y',)\n",
      "Model set size: 1\n",
      "Expression: [0] + [1]\n",
      "Components: \n",
      "    [0]: <Gaussian1D(amplitude=8.4893772148465285e-16, mean=1.724396717076304, stddev=0.16961080238193388)>\n",
      "\n",
      "    [1]: <Linear1D(slope=1.8041923499311953e-16, intercept=2.753000072977637e-15)>\n",
      "Parameters:\n",
      "       amplitude_0        mean_0    ...      slope_1         intercept_1   \n",
      "    ----------------- ------------- ... ----------------- -----------------\n",
      "    8.48937721485e-16 1.72439671708 ... 1.80419234993e-16 2.75300007298e-15\n"
     ]
    }
   ],
   "source": [
    "# read ROI\n",
    "from astropy.io import fits\n",
    "data = np.genfromtxt(\"data/example_spec_ipac.txt\")\n",
    "wave = data[:,0]\n",
    "flux = data[:,1]\n",
    "# indices = (wave > 0.9) & (wave < 2.35) \n",
    "indices = (wave > 1.09) & (wave < 2.25) \n",
    "w2 = wave[indices]\n",
    "f2 = flux[indices]\n",
    "\n",
    "# functions to estimate initial guess\n",
    "\n",
    "def initialize_gaussian(w, f):\n",
    "    centroid = np.sum(w * f) / np.sum(f)\n",
    "\n",
    "    dw = w - np.mean(w)\n",
    "    fwhm = 2 * np.sqrt(np.sum((dw * dw) * f) / np.sum(f))\n",
    "    sigma = fwhm / 2.355\n",
    "\n",
    "    delta_w = w[1:] - w[:-1]\n",
    "    sum_f = np.sum((f[1:] - np.min(f[1:])) * delta_w)\n",
    "    height = sum_f / (sigma * np.sqrt( 2 * np.pi))\n",
    "    \n",
    "    return height, centroid, sigma\n",
    "\n",
    "def initialize_linear(w, f):\n",
    "    # compute averages at the 5% of data at each extreme of the wavelength range.\n",
    "    l = int(len(w) / 20)\n",
    "    w1 = np.mean(w[0:l])\n",
    "    w2 = np.mean(w[-l-1:-1])\n",
    "    f1 = np.mean(f[0:l])\n",
    "    f2 = np.mean(f[-l-1:-1])\n",
    "    # fit a straigth line thru these \n",
    "    slope = (f2 - f1) / (w2 - w1)\n",
    "    inter = f2 - slope * w2\n",
    "    return slope, inter\n",
    "\n",
    "def initialize_compound(w, f):\n",
    "    slope, inter = initialize_linear(w, f)\n",
    "    fc = f - (w * slope + inter)\n",
    "    height, centroid, sigma = initialize_gaussian(w, fc)\n",
    "    return height, centroid, sigma, slope, inter\n",
    "\n",
    "height, mean, sigma, slope, inter = initialize_compound(w2, f2)\n",
    "gaussian = Gaussian1D(amplitude=height, mean=mean, stddev=sigma)\n",
    "linear = Linear1D(slope=slope, intercept=inter)\n",
    "\n",
    "# compound model\n",
    "model = gaussian + linear\n",
    "\n",
    "print model"
   ]
  },
  {
   "cell_type": "code",
   "execution_count": 4,
   "metadata": {
    "collapsed": false,
    "deletable": true,
    "editable": true
   },
   "outputs": [
    {
     "data": {
      "text/plain": [
       "<matplotlib.text.Text at 0x1135ea690>"
      ]
     },
     "execution_count": 4,
     "metadata": {},
     "output_type": "execute_result"
    },
    {
     "data": {
      "image/png": "[encoded data removed]",
      "text/plain": [
       "<matplotlib.figure.Figure at 0x11349e1d0>"
      ]
     },
     "metadata": {},
     "output_type": "display_data"
    }
   ],
   "source": [
    "x_label = '$\\lambda$($\\mu$)'\n",
    "y_label = 'erg.cm$^{-2}$.s$^{-1}$.$A^{-1}$'\n",
    "plot_axis = [0.8, 2.4, 2.8e-15, 4.e-15]\n",
    "plt.figure(figsize=(15, 3))\n",
    "plt.subplot(121)\n",
    "plt.axis(plot_axis)\n",
    "plt.plot(w2, f2)\n",
    "plt.plot(w2, model(w2))\n",
    "plt.xlabel(x_label)\n",
    "plt.ylabel(y_label)\n",
    "plt.title(\"Initial model\")"
   ]
  },
  {
   "cell_type": "markdown",
   "metadata": {
    "deletable": true,
    "editable": true
   },
   "source": [
    "## Try the Sherpa optimizers"
   ]
  },
  {
   "cell_type": "markdown",
   "metadata": {
    "deletable": true,
    "editable": true
   },
   "source": [
    "### Gaussian $x_{0}$ is fixed."
   ]
  },
  {
   "cell_type": "code",
   "execution_count": 5,
   "metadata": {
    "collapsed": true,
    "deletable": true,
    "editable": true
   },
   "outputs": [],
   "source": [
    "def try_sherpa(optimizer):\n",
    "    print(\"Input      Fitted\")\n",
    "    print(\"  z         z   mean  sigma amplitude\")\n",
    "    for z in np.linspace(0.0, 2.5, 40):\n",
    "        rs = RedshiftScaleFactor(z).inverse\n",
    "        model = rs | (gaussian + linear)        \n",
    "\n",
    "        model.fixed['mean_1'] = True\n",
    "        fitter = SherpaFitter(statistic='leastsq', optimizer=optimizer, estmethod='confidence')\n",
    "        fitted_model = fitter(model, w2, f2)\n",
    "\n",
    "        fitted_z =  RedshiftScaleFactor(fitted_model.parameters[0]).inverse.z.value\n",
    "        fitted_height = fitted_model.amplitude_1.value\n",
    "        fitted_mean = fitted_model.mean_1.value\n",
    "        fitted_sigma = fitted_model.stddev_1.value\n",
    "        print(\"%4.2f     %5.2f %5.2f %5.2f %5.2g\" % (z, fitted_z, fitted_mean, fitted_sigma, fitted_height))"
   ]
  },
  {
   "cell_type": "markdown",
   "metadata": {
    "deletable": true,
    "editable": true
   },
   "source": [
    "### Levemberg-Marquard"
   ]
  },
  {
   "cell_type": "code",
   "execution_count": 6,
   "metadata": {
    "collapsed": false,
    "deletable": true,
    "editable": true
   },
   "outputs": [
    {
     "name": "stdout",
     "output_type": "stream",
     "text": [
      "Input      Fitted\n",
      "  z         z   mean  sigma amplitude\n",
      "0.00     -0.01  1.72  0.12 6.7e-16\n",
      "0.06     -0.01  1.72  0.12 6.7e-16\n",
      "0.13     -0.01  1.72  0.12 6.7e-16\n",
      "0.19      0.26  1.72  0.14 -9.1e-16\n",
      "0.26      0.26  1.72  0.14 -9.1e-16\n",
      "0.32      0.26  1.72  0.14 -9.1e-16\n",
      "0.38      0.26  1.72  0.14 -9.1e-16\n",
      "0.45      0.26  1.72  0.14 -9.1e-16\n",
      "0.51      0.26  1.72  0.14 -9.1e-16\n",
      "0.58      0.81  1.72 -0.01 -4.7e-16\n",
      "0.64      0.26  1.72  0.14 -9.1e-16\n",
      "0.71      0.26  1.72  0.14 -9.1e-16\n",
      "0.77      0.26  1.72  0.14 -9.1e-16\n",
      "0.83      0.26  1.72  0.14 -9.1e-16\n",
      "0.90      0.26  1.72  0.14 -9.1e-16\n",
      "0.96      0.26  1.72  0.14 -9.1e-16\n",
      "1.03      0.26  1.72  0.14 -9.1e-16\n",
      "1.09      0.26  1.72  0.14 -9.1e-16\n",
      "1.15      0.26  1.72  0.14 -9.1e-16\n",
      "1.22      0.26  1.72  0.14 -9.1e-16\n",
      "1.28      0.26  1.72  0.14 -9.1e-16\n",
      "1.35      0.26  1.72  0.14 -9.1e-16\n",
      "1.41      0.26  1.72  0.14 -9.1e-16\n",
      "1.47      0.26  1.72  0.14 -9.1e-16\n",
      "1.54      0.26  1.72  0.14 -9.1e-16\n",
      "1.60      0.26  1.72  0.14 -9.1e-16\n",
      "1.67      0.26  1.72  0.14 -9.1e-16\n",
      "1.73      0.26  1.72  0.14 -9.1e-16\n",
      "1.79      0.26  1.72  0.14 -9.1e-16\n",
      "1.86      0.26  1.72  0.14 -9.1e-16\n",
      "1.92      0.26  1.72  0.14 -9.1e-16\n",
      "1.99      0.26  1.72  0.14 -9.1e-16\n",
      "2.05      2.05  1.72  0.17 8.5e-16\n",
      "2.12      2.12  1.72  0.17 8.5e-16\n",
      "2.18      2.18  1.72  0.17 8.5e-16\n",
      "2.24      2.24  1.72  0.17 8.5e-16\n",
      "2.31      2.31  1.72  0.17 8.5e-16\n",
      "2.37      2.37  1.72  0.17 8.5e-16\n",
      "2.44      2.44  1.72  0.17 8.5e-16\n",
      "2.50      2.50  1.72  0.17 8.5e-16\n"
     ]
    }
   ],
   "source": [
    "try_sherpa('levmar')"
   ]
  },
  {
   "cell_type": "markdown",
   "metadata": {
    "deletable": true,
    "editable": true
   },
   "source": [
    "Results are no better than with the default astropy levmar optimizer."
   ]
  },
  {
   "cell_type": "markdown",
   "metadata": {
    "deletable": true,
    "editable": true
   },
   "source": [
    "### Moncar"
   ]
  },
  {
   "cell_type": "code",
   "execution_count": 7,
   "metadata": {
    "collapsed": false,
    "deletable": true,
    "editable": true
   },
   "outputs": [
    {
     "name": "stdout",
     "output_type": "stream",
     "text": [
      "Input      Fitted\n",
      "  z         z   mean  sigma amplitude\n",
      "0.00      0.00  1.72 -0.12 6.7e-16\n",
      "0.06     -0.01  1.72  0.12 6.7e-16\n",
      "0.13     -0.01  1.72 -0.12 6.7e-16\n",
      "0.19     -0.01  1.72 -0.12 6.7e-16\n",
      "0.26     -0.01  1.72  0.12 6.7e-16\n",
      "0.32      0.26  1.72  0.14 -9.1e-16\n",
      "0.38     -0.01  1.72 -0.12 6.7e-16\n",
      "0.45     -0.01  1.72  0.12 6.7e-16\n",
      "0.51     -0.01  1.72 -0.12 6.7e-16\n",
      "0.58     -0.01  1.72  0.12 6.7e-16\n",
      "0.64     -0.01  1.72 -0.12 6.7e-16\n",
      "0.71     -0.01  1.72  0.12 6.7e-16\n",
      "0.77      0.26  1.72  0.14 -9.1e-16\n",
      "0.83     -0.01  1.72 -0.12 6.7e-16\n",
      "0.90     -0.01  1.72  0.12 6.7e-16\n",
      "0.96      0.26  1.72  0.14 -9.1e-16\n",
      "1.03      0.26  1.72 -0.14 -9.1e-16\n",
      "1.09      0.26  1.72  0.14 -9.1e-16\n",
      "1.15     -0.01  1.72 -0.12 6.7e-16\n",
      "1.22      0.26  1.72  0.14 -9.1e-16\n",
      "1.28     -0.01  1.72  0.12 6.7e-16\n",
      "1.35     -0.01  1.72  0.12 6.7e-16\n",
      "1.41      2.32  1.72  0.02 3.9e-14\n",
      "1.47      0.26  1.72  0.14 -9.1e-16\n",
      "1.54     -0.01  1.72 -0.12 6.7e-16\n",
      "1.60      0.26  1.72  0.14 -9.1e-16\n",
      "1.67      0.95  1.72 -0.04 1.4e-14\n",
      "1.73      0.26  1.72  0.14 -9.1e-16\n",
      "1.79     -0.01  1.72  0.12 6.7e-16\n",
      "1.86      0.26  1.72  0.14 -9.1e-16\n",
      "1.92      0.26  1.72  0.14 -9.1e-16\n",
      "1.99      0.26  1.72  0.14 -9.1e-16\n",
      "2.05      0.26  1.72 -0.14 -9.1e-16\n",
      "2.12      0.26  1.72  0.14 -9.1e-16\n",
      "2.18     -0.01  1.72  0.12 6.7e-16\n",
      "2.24      1.31  1.72  0.33 -1.8e-14\n",
      "2.31      0.26  1.72  0.14 -9.1e-16\n",
      "2.37      0.26  1.72  0.14 -9.1e-16\n",
      "2.44     -0.01  1.72  0.12 6.7e-16\n",
      "2.50     -0.01  1.72  0.12 6.7e-16\n"
     ]
    }
   ],
   "source": [
    "try_sherpa('moncar')"
   ]
  },
  {
   "cell_type": "markdown",
   "metadata": {
    "deletable": true,
    "editable": true
   },
   "source": [
    "This is unusable. Took 160 sec. to run (Mac OSX 10.10.5, 2.4 GHz Core i5)."
   ]
  },
  {
   "cell_type": "markdown",
   "metadata": {
    "deletable": true,
    "editable": true
   },
   "source": [
    "### Simplex"
   ]
  },
  {
   "cell_type": "code",
   "execution_count": 8,
   "metadata": {
    "collapsed": false,
    "deletable": true,
    "editable": true
   },
   "outputs": [],
   "source": [
    "# try_sherpa('simplex')"
   ]
  },
  {
   "cell_type": "markdown",
   "metadata": {
    "deletable": true,
    "editable": true
   },
   "source": [
    "This is also unusable. Just freezes and reports nothing."
   ]
  },
  {
   "cell_type": "markdown",
   "metadata": {
    "deletable": true,
    "editable": true
   },
   "source": [
    "### Nelder-Mead"
   ]
  },
  {
   "cell_type": "code",
   "execution_count": 9,
   "metadata": {
    "collapsed": false,
    "deletable": true,
    "editable": true,
    "scrolled": true
   },
   "outputs": [
    {
     "name": "stdout",
     "output_type": "stream",
     "text": [
      "Input      Fitted\n",
      "  z         z   mean  sigma amplitude\n",
      "0.00     -0.01  1.72  0.12 6.7e-16\n",
      "0.06     -0.01  1.72  0.12 6.7e-16\n",
      "0.13     -0.55  1.72  0.20 -5.3e-14\n",
      "0.19     -0.01  1.72  0.12 6.7e-16\n",
      "0.26     -0.58  1.72  0.23 -1.4e-13\n",
      "0.32     -0.54  1.72  0.14 -2.4e-12\n",
      "0.38     -0.47  1.72  0.05 -1.7e-07\n",
      "0.45     -0.47  1.72  0.05 -6.5e-06\n",
      "0.51     -0.31  1.72  0.39 -1.5e-15\n",
      "0.58     -0.50  1.72  0.73 -1e-15\n",
      "0.64     -0.31  1.72  0.39 -1.5e-15\n",
      "0.71     -0.31  1.72  0.39 -1.5e-15\n",
      "0.77     -0.31  1.72  0.39 -1.5e-15\n",
      "0.83     -0.31  1.72  0.39 -1.5e-15\n",
      "0.90     -0.31  1.72  0.39 -1.5e-15\n",
      "0.96     -0.31  1.72  0.39 -1.5e-15\n",
      "1.03     -0.72  1.72  0.42 -1e-10\n",
      "1.09     -0.31  1.72  0.39 -1.5e-15\n",
      "1.15     -0.01  1.72  0.12 6.7e-16\n",
      "1.22     -0.31  1.72  0.39 -1.5e-15\n",
      "1.28     -0.01  1.72  0.12 6.7e-16\n",
      "1.35     -0.01  1.72  0.12 6.7e-16\n",
      "1.41     -0.01  1.72  0.12 6.7e-16\n",
      "1.47     -0.01  1.72  0.12 6.7e-16\n",
      "1.54      0.96  1.72  0.97 8.3e-14\n",
      "1.60      0.98  1.72  0.98 8.8e-14\n",
      "1.67      0.40  1.72  0.66 9.5e-15\n",
      "1.73      4.02  1.72  0.82 -9.4e-14\n",
      "1.79     -0.01  1.72  0.12 6.7e-16\n",
      "1.86      0.56  1.72  0.77 2.1e-14\n",
      "1.92      2.72  1.72  1.02 -1.3e-13\n",
      "1.99      3.05  1.72  0.77 -5.4e-14\n",
      "2.05     -0.01  1.72  0.12 6.7e-16\n",
      "2.12      0.42  1.72  0.68 1.1e-14\n",
      "2.18      0.43  1.72  0.69 1.1e-14\n",
      "2.24      3.90  1.72  1.06 -2e-13\n",
      "2.31      3.73  1.72  1.02 -1.7e-13\n",
      "2.37     -0.01  1.72  0.12 6.2e-16\n",
      "2.44      3.38  1.72  0.93 -1.1e-13\n",
      "2.50     -0.00  1.72  0.15 4.6e-16\n"
     ]
    }
   ],
   "source": [
    "try_sherpa('neldermead')"
   ]
  },
  {
   "cell_type": "markdown",
   "metadata": {
    "deletable": true,
    "editable": true
   },
   "source": [
    "### Gaussian $x_{0}$ is fixed, $h$ and $\\sigma$ are bounded to $>=0.$"
   ]
  },
  {
   "cell_type": "markdown",
   "metadata": {
    "deletable": true,
    "editable": true
   },
   "source": [
    "Note that we cannot set a minimum bound for $z$. We get an error that sounds like a bug:\n",
    "```\n",
    "ParameterErr: parameter wrap_.z_0 has a minimum of 0\n",
    "```"
   ]
  },
  {
   "cell_type": "code",
   "execution_count": 10,
   "metadata": {
    "collapsed": true,
    "deletable": true,
    "editable": true
   },
   "outputs": [],
   "source": [
    "def try_sherpa_bounded(optimizer):\n",
    "    print(\"Input      Fitted\")\n",
    "    print(\"  z         z   mean  sigma amplitude\")\n",
    "    for z in np.linspace(0.0, 2.5, 40):\n",
    "        rs = RedshiftScaleFactor(z).inverse\n",
    "        model = rs | (gaussian + linear)        \n",
    "\n",
    "        model.amplitude_1.min = 0.\n",
    "        model.stddev_1.min = 0.\n",
    "        \n",
    "        model.fixed['mean_1'] = True\n",
    "        fitter = SherpaFitter(statistic='leastsq', optimizer=optimizer, estmethod='confidence')\n",
    "        fitted_model = fitter(model, w2, f2)\n",
    "\n",
    "        fitted_z =  RedshiftScaleFactor(fitted_model.parameters[0]).inverse.z.value\n",
    "        fitted_height = fitted_model.amplitude_1.value\n",
    "        fitted_mean = fitted_model.mean_1.value\n",
    "        fitted_sigma = fitted_model.stddev_1.value\n",
    "        print(\"%4.2f     %5.2f %5.2f %5.2f %5.2g\" % (z, fitted_z, fitted_mean, fitted_sigma, fitted_height))"
   ]
  },
  {
   "cell_type": "code",
   "execution_count": 11,
   "metadata": {
    "collapsed": false,
    "deletable": true,
    "editable": true
   },
   "outputs": [
    {
     "name": "stdout",
     "output_type": "stream",
     "text": [
      "Input      Fitted\n",
      "  z         z   mean  sigma amplitude\n",
      "0.00     -0.01  1.72  0.12 6.7e-16\n",
      "0.06     -0.01  1.72  0.12 6.7e-16\n",
      "0.13     -0.01  1.72  0.12 6.7e-16\n",
      "0.19     -0.01  1.72  0.12 6.7e-16\n",
      "0.26      0.38  1.72  6.99 2.3e-17\n",
      "0.32      0.49  1.72  0.24     0\n",
      "0.38      1.80  1.72  0.13     0\n",
      "0.45      0.47  1.72  1.15 1.5e-15\n",
      "0.51      0.50  1.72  0.15     0\n",
      "0.58      0.81  1.72  0.02  0.17\n",
      "0.64      0.18  1.72  0.14     0\n",
      "0.71      0.55  1.72  0.01 0.096\n",
      "0.77     -0.01  1.72  0.12 6.7e-16\n",
      "0.83     -0.30  1.72  0.00     0\n",
      "0.90     -0.25  1.72  0.00     0\n",
      "0.96      0.02  1.72  0.00     0\n",
      "1.03      0.87  1.72  0.23     0\n",
      "1.09      0.14  1.72  0.00     0\n",
      "1.15      0.60  1.72  0.01 0.095\n",
      "1.22      1.75  1.72  0.04  0.33\n",
      "1.28      0.20  1.72  0.00     0\n",
      "1.35     -0.04  1.72  0.00     0\n",
      "1.41     -0.02  1.72  0.00     0\n",
      "1.47      0.18  1.72  0.00     0\n",
      "1.54     -0.01  1.72  0.12 6.7e-16\n",
      "1.60      1.21  1.72  0.23     0\n",
      "1.67      1.30  1.72  0.25     0\n",
      "1.73      1.50  1.72  0.29     0\n",
      "1.79      1.88  1.72  0.05 0.053\n",
      "1.86      1.33  1.72  0.23     0\n",
      "1.92      1.44  1.72  0.27 3.4e-17\n",
      "1.99      1.55  1.72  0.27     0\n",
      "2.05      1.96  1.72  0.32     0\n",
      "2.12      2.59  1.72  0.37     0\n",
      "2.18      1.65  1.72  0.93 2.2e-15\n",
      "2.24      1.73  1.72  0.94 2.3e-15\n",
      "2.31      2.15  1.72  1.12 3.5e-15\n",
      "2.37      2.03  1.72  0.98 3.3e-15\n",
      "2.44      2.06  1.72  0.99 4.1e-15\n",
      "2.50      1.07  1.72  1.05 9.7e-16\n"
     ]
    }
   ],
   "source": [
    "try_sherpa_bounded('levmar')"
   ]
  },
  {
   "cell_type": "code",
   "execution_count": 12,
   "metadata": {
    "collapsed": false,
    "deletable": true,
    "editable": true
   },
   "outputs": [
    {
     "name": "stdout",
     "output_type": "stream",
     "text": [
      "Input      Fitted\n",
      "  z         z   mean  sigma amplitude\n",
      "0.00      0.00  1.72  0.12 6.7e-16\n",
      "0.06     -0.01  1.72  0.12 6.7e-16\n",
      "0.13     -0.01  1.72  0.12 6.7e-16\n",
      "0.19     -0.01  1.72  0.12 6.7e-16\n",
      "0.26      2.74  1.72  0.03 2.3e-15\n",
      "0.32     -0.01  1.72  0.12 6.7e-16\n",
      "0.38     -0.01  1.72  0.12 6.7e-16\n",
      "0.45     -0.01  1.72  0.12 6.7e-16\n",
      "0.51     -0.01  1.72  0.12 6.7e-16\n",
      "0.58     -0.01  1.72  0.12 6.7e-16\n",
      "0.64     -0.01  1.72  0.12 6.7e-16\n",
      "0.71     -0.01  1.72  0.12 6.7e-16\n",
      "0.77     -0.01  1.72  0.12 6.7e-16\n",
      "0.83     -0.01  1.72  0.12 6.7e-16\n",
      "0.90     -0.01  1.72  0.12 6.7e-16\n",
      "0.96      1.50  1.72  0.03 1.5e-21\n",
      "1.03      3.46  1.72  0.07 2e-15\n",
      "1.09     -0.01  1.72  0.12 6.7e-16\n",
      "1.15     -0.01  1.72  0.12 6.7e-16\n",
      "1.22     -0.01  1.72  0.12 6.7e-16\n",
      "1.28     -0.01  1.72  0.12 6.7e-16\n",
      "1.35     -0.01  1.72  0.12 6.7e-16\n",
      "1.41     -0.01  1.72  0.12 6.7e-16\n",
      "1.47     -0.01  1.72  0.12 6.7e-16\n",
      "1.54     -0.01  1.72  0.12 6.7e-16\n",
      "1.60      0.86  1.72  0.01 1.3e-14\n",
      "1.67     -0.01  1.72  0.12 6.7e-16\n",
      "1.73     -0.01  1.72  0.12 6.7e-16\n",
      "1.79     -0.01  1.72  0.12 6.7e-16\n",
      "1.86     -0.01  1.72  0.12 6.7e-16\n",
      "1.92     -0.01  1.72  0.12 6.7e-16\n",
      "1.99     -0.01  1.72  0.12 6.7e-16\n",
      "2.05     -0.01  1.72  0.12 6.7e-16\n",
      "2.12     -0.01  1.72  0.12 6.7e-16\n",
      "2.18     -0.01  1.72  0.12 6.7e-16\n",
      "2.24     -0.01  1.72  0.12 6.7e-16\n",
      "2.31     -0.01  1.72  0.12 6.7e-16\n",
      "2.37     -0.01  1.72  0.12 6.7e-16\n",
      "2.44     -0.01  1.72  0.12 6.7e-16\n",
      "2.50     -0.01  1.72  0.12 6.7e-16\n"
     ]
    }
   ],
   "source": [
    "try_sherpa_bounded('moncar')"
   ]
  },
  {
   "cell_type": "code",
   "execution_count": 13,
   "metadata": {
    "collapsed": false,
    "deletable": true,
    "editable": true
   },
   "outputs": [],
   "source": [
    "# try_sherpa_bounded('simplex')\n",
    "#\n",
    "# this freezes at the very start"
   ]
  },
  {
   "cell_type": "code",
   "execution_count": 14,
   "metadata": {
    "collapsed": false,
    "deletable": true,
    "editable": true
   },
   "outputs": [
    {
     "name": "stdout",
     "output_type": "stream",
     "text": [
      "Input      Fitted\n",
      "  z         z   mean  sigma amplitude\n",
      "0.00      0.00  1.72  0.17 8.5e-16\n",
      "0.06      0.06  1.72  0.17 8.5e-16\n",
      "0.13     -0.39  1.72  0.01 0.0045\n",
      "0.19     -0.41  1.72  0.02 1.7e-16\n",
      "0.26     -0.42  1.72  0.01 7.4e-14\n",
      "0.32     -0.42  1.72  0.00 7.7e-11\n",
      "0.38     -0.39  1.72  0.01 1.9e-13\n",
      "0.45     -0.54  1.72  0.13 1e-15\n",
      "0.51     -0.40  1.72  0.00 6.5e-14\n",
      "0.58     -0.47  1.72  0.03  0.03\n",
      "0.64     -0.42  1.72  0.05 4.2e-17\n",
      "0.71     -0.42  1.72  1.23 2.1e-18\n",
      "0.77     -0.40  1.72  0.02 2.6e-16\n",
      "0.83     -0.42  1.72  0.01   0.1\n",
      "0.90     -0.44  1.72  0.02 0.099\n",
      "0.96     -0.41  1.72  0.01 0.014\n",
      "1.03     -0.41  1.72  0.00 1.3e-07\n",
      "1.09     -0.36  1.72  0.00 1.6e-14\n",
      "1.15      0.01  1.72  0.07 7.7e-16\n",
      "1.22     -0.04  1.72  0.07 7.9e-16\n",
      "1.28     -0.04  1.72  0.08 8.3e-16\n",
      "1.35     -0.01  1.72  0.13 7.4e-16\n",
      "1.41      0.01  1.72  0.08 6.1e-16\n",
      "1.47     -0.04  1.72  0.07 7.2e-16\n",
      "1.54     -0.24  1.72  1.96 6.2e-15\n",
      "1.60      1.75  1.72  1.02 1.7e-15\n",
      "1.67      1.81  1.72  1.02 1.6e-15\n",
      "1.73      2.02  1.72  1.03 2.1e-15\n",
      "1.79      2.31  1.72  1.58 2.2e-15\n",
      "1.86      2.09  1.72  1.03 2.2e-15\n",
      "1.92      2.03  1.72  1.03 2.2e-15\n",
      "1.99      2.09  1.72  1.04 2.5e-15\n",
      "2.05      1.79  1.72  0.96 2.7e-15\n",
      "2.12      2.30  1.72  1.01 3.9e-15\n",
      "2.18      1.65  1.72  0.93 2.2e-15\n",
      "2.24      1.73  1.72  0.94 2.3e-15\n",
      "2.31      2.11  1.72  0.99 3.3e-15\n",
      "2.37      2.02  1.72  0.98 3.4e-15\n",
      "2.44      2.06  1.72  0.99 4.1e-15\n",
      "2.50      1.07  1.72  1.05 9.7e-16\n"
     ]
    }
   ],
   "source": [
    "try_sherpa_bounded('neldermead')"
   ]
  }
 ],
 "metadata": {
  "kernelspec": {
   "display_name": "Python 2",
   "language": "python",
   "name": "python2"
  },
  "language_info": {
   "codemirror_mode": {
    "name": "ipython",
    "version": 2
   },
   "file_extension": ".py",
   "mimetype": "text/x-python",
   "name": "python",
   "nbconvert_exporter": "python",
   "pygments_lexer": "ipython2",
   "version": "2.7.13"
  }
 },
 "nbformat": 4,
 "nbformat_minor": 2
}
