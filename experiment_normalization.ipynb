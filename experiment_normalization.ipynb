{
 "cells": [
  {
   "cell_type": "code",
   "execution_count": 1,
   "metadata": {},
   "outputs": [
    {
     "name": "stdout",
     "output_type": "stream",
     "text": [
      "Iteration limit exceeded    (Exit mode 9)\n",
      "            Current function value: 2.5466138966016514\n",
      "            Iterations: 101\n",
      "            Function evaluations: 749\n",
      "            Gradient evaluations: 100\n",
      "Model: CompoundModel0\n",
      "Inputs: ('x',)\n",
      "Outputs: ('y',)\n",
      "Model set size: 1\n",
      "Expression: [0] + [1]\n",
      "Components: \n",
      "    [0]: <Gaussian1D(amplitude=2.5408601796930876e-44, mean=1.4768890911600128, stddev=0.71348759626021)>\n",
      "\n",
      "    [1]: <Linear1D(slope=2.2070949678495877e-45, intercept=-1.684127439035524e-44)>\n",
      "Parameters:\n",
      "     amplitude_0      mean_0       stddev_0      slope_1       intercept_1  \n",
      "    ------------- ------------- ------------- -------------- ---------------\n",
      "    1.26779188516 0.73844454558 0.35674379813 0.220251166309 -0.840315070407\n",
      "Model: CompoundModel0\n",
      "Inputs: ('x',)\n",
      "Outputs: ('y',)\n",
      "Model set size: 1\n",
      "Expression: [0] + [1]\n",
      "Components: \n",
      "    [0]: <Gaussian1D(amplitude=2.5408601796930876e-44, mean=1.4768890911600128, stddev=0.71348759626021)>\n",
      "\n",
      "    [1]: <Linear1D(slope=2.2070949678495877e-45, intercept=-1.684127439035524e-44)>\n",
      "Parameters:\n",
      "      amplitude_0       mean_0    ...        slope_1          intercept_1  \n",
      "    2.00416e-44 uy1     2 ux1     ... 1.00208e-44 uy1 / ux1 2.00416e-44 uy1\n",
      "    --------------- ------------- ... --------------------- ---------------\n",
      "      1.26779188516 0.73844454558 ...        0.220251166309 -0.840315070407\n",
      "Model: CompoundModel0\n",
      "Inputs: ('x',)\n",
      "Outputs: ('y',)\n",
      "Model set size: 1\n",
      "Expression: [0] + [1]\n",
      "Components: \n",
      "    [0]: <Gaussian1D(amplitude=2.5408601796930876e-44, mean=1.4768890911600128, stddev=0.71348759626021)>\n",
      "\n",
      "    [1]: <Linear1D(slope=2.2070949678495877e-45, intercept=-1.684127439035524e-44)>\n",
      "Parameters:\n",
      "       amplitude_0        mean_0    ...      slope_1         intercept_1    \n",
      "    ----------------- ------------- ... ----------------- ------------------\n",
      "    2.54086017969e-44 1.47688909116 ... 2.20709496785e-45 -1.68412743904e-44\n"
     ]
    },
    {
     "name": "stderr",
     "output_type": "stream",
     "text": [
      "WARNING: The fit may be unsuccessful; check fit_info['message'] for more information. [astropy.modeling.optimizers]\n"
     ]
    },
    {
     "data": {
      "image/png": "[encoded data removed]",
      "text/plain": [
       "<matplotlib.figure.Figure at 0x113774208>"
      ]
     },
     "metadata": {},
     "output_type": "display_data"
    }
   ],
   "source": [
    "import numpy as np\n",
    "import matplotlib.pyplot as plt\n",
    "%matplotlib inline\n",
    "\n",
    "from astropy import units as u\n",
    "from astropy.modeling import models, fitting\n",
    "\n",
    "# Parametrize the scale of the data to play around with more easily\n",
    "SCALE = 1e-44\n",
    "\n",
    "# Set up simulated data. \n",
    "w1 = np.linspace(1, 2, 100)\n",
    "f1 = (1.2 * SCALE * np.exp(-0.5 * (w1 - 1.4)**2 / 0.1**2) +\n",
    "      SCALE * (0.01 + 0.5 * w1) + \n",
    "      SCALE / 10 * np.random.normal(0, 1, len(w1)))\n",
    "# f1 = (1.2 * SCALE * np.exp(-0.5 * (w1 - 1.4)**2 / 0.1**2) +\n",
    "#       SCALE / 10 * np.random.normal(0, 1, len(w1)))\n",
    "\n",
    "# Set up initial model\n",
    "g1 = models.Gaussian1D() + models.Linear1D()\n",
    "# g1 = models.Gaussian1D() \n",
    "\n",
    "# Set up fitter\n",
    "slsqp_fitter = fitting.SLSQPLSQFitter()\n",
    "\n",
    "# Define custom units for x and y\n",
    "ux1 = u.def_unit('ux1')\n",
    "uy1 = u.def_unit('uy1')\n",
    "w1 = w1 * ux1\n",
    "f1 = f1 * uy1\n",
    "\n",
    "# Determine maximum values in each direction\n",
    "wmax = np.max(np.abs(w1.value))\n",
    "fmax = np.max(np.abs(f1.value))\n",
    "\n",
    "# Define new units so that in this system, the data is always in the range\n",
    "# [-1:1] in both directions and convert data to that frame.\n",
    "ux2 = u.Unit(wmax * w1.unit)\n",
    "uy2 = u.Unit(fmax * f1.unit)\n",
    "w2 = w1.to(ux2)\n",
    "f2 = f1.to(uy2)\n",
    "\n",
    "# Strip away the units for the fitting\n",
    "w3 = w2.value\n",
    "f3 = f2.value\n",
    "\n",
    "# Run the fitting\n",
    "g3_new = slsqp_fitter(g1, w3, f3)\n",
    "\n",
    "# Add units to the parameters for the data that was fit, and then transform\n",
    "# the parameters to the original units of the data\n",
    "g2_new = g3_new.with_units_from_data(x=w2, y=f2)\n",
    "g1_new = g2_new.without_units_for_data(x=w1, y=f1)\n",
    "\n",
    "print(g3_new)\n",
    "print(g2_new)\n",
    "print(g1_new)\n",
    "\n",
    "fig = plt.figure()\n",
    "ax = fig.add_subplot(1, 1, 1)\n",
    "ax.plot(w1.value, f1.value, 'k.')\n",
    "ax.plot(w1.value, g1_new(w1.value), 'g-')\n",
    "ax.set_autoscale_on(False)\n",
    "ax.plot(w1.value, g1(w1.value), 'r-')\n",
    "fig.savefig('fit.png')"
   ]
  },
  {
   "cell_type": "code",
   "execution_count": null,
   "metadata": {
    "collapsed": true
   },
   "outputs": [],
   "source": []
  }
 ],
 "metadata": {
  "kernelspec": {
   "display_name": "Python 3",
   "language": "python",
   "name": "python3"
  },
  "language_info": {
   "codemirror_mode": {
    "name": "ipython",
    "version": 3
   },
   "file_extension": ".py",
   "mimetype": "text/x-python",
   "name": "python",
   "nbconvert_exporter": "python",
   "pygments_lexer": "ipython3",
   "version": "3.5.3"
  }
 },
 "nbformat": 4,
 "nbformat_minor": 2
}
