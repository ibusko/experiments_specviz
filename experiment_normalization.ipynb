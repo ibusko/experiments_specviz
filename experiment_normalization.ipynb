{
 "cells": [
  {
   "cell_type": "markdown",
   "metadata": {},
   "source": [
    "<b>This script requires astropy 3.0dev</b>"
   ]
  },
  {
   "cell_type": "markdown",
   "metadata": {},
   "source": [
    "Testing normalization with units in a compound model setting. "
   ]
  },
  {
   "cell_type": "code",
   "execution_count": 1,
   "metadata": {},
   "outputs": [
    {
     "name": "stdout",
     "output_type": "stream",
     "text": [
      "Optimization terminated successfully.    (Exit mode 0)\n",
      "            Current function value: 0.19540667411284302\n",
      "            Iterations: 118\n",
      "            Function evaluations: 896\n",
      "            Gradient evaluations: 117\n",
      "Optimization terminated successfully.\n",
      "Optimization terminated successfully.    (Exit mode 0)\n",
      "            Current function value: 1.6143024086550173\n",
      "            Iterations: 69\n",
      "            Function evaluations: 517\n",
      "            Gradient evaluations: 69\n",
      "Optimization terminated successfully.\n"
     ]
    },
    {
     "data": {
      "text/plain": [
       "[<matplotlib.lines.Line2D at 0x11524c5c0>]"
      ]
     },
     "execution_count": 1,
     "metadata": {},
     "output_type": "execute_result"
    },
    {
     "data": {
      "text/plain": [
       "<matplotlib.figure.Figure at 0x109a2d240>"
      ]
     },
     "metadata": {},
     "output_type": "display_data"
    },
    {
     "data": {
      "image/png": "[encoded data removed]",
      "text/plain": [
       "<matplotlib.figure.Figure at 0x11515abe0>"
      ]
     },
     "metadata": {},
     "output_type": "display_data"
    }
   ],
   "source": [
    "import numpy as np\n",
    "import matplotlib.pyplot as plt\n",
    "%matplotlib inline\n",
    "\n",
    "plt.gcf().set_size_inches(8.,4.)\n",
    "\n",
    "from astropy import units as u\n",
    "from astropy.modeling import models, fitting\n",
    "\n",
    "def perform_fit(fitter, model, wave, flux):\n",
    "    # This is basically Thomas Robitaille's example code\n",
    "    # cast in the form of a function.\n",
    "    \n",
    "    # Define custom units for x and y\n",
    "    ux1 = u.def_unit('ux1')\n",
    "    uy1 = u.def_unit('uy1')\n",
    "    w1 = wave * ux1\n",
    "    f1 = flux * uy1\n",
    "\n",
    "    # Determine maximum values in each direction\n",
    "    wmax = np.max(np.abs(w1.value))\n",
    "    fmax = np.max(np.abs(f1.value))\n",
    "\n",
    "    # Define new units so that in this system, the data is always in the range\n",
    "    # [-1:1] in both directions and convert data to that frame.\n",
    "    ux2 = u.Unit(wmax * w1.unit)\n",
    "    uy2 = u.Unit(fmax * f1.unit)\n",
    "    w2 = w1.to(ux2)\n",
    "    f2 = f1.to(uy2)\n",
    "\n",
    "    # Strip away the units for the fitting\n",
    "    w3 = w2.value\n",
    "    f3 = f2.value\n",
    "\n",
    "    # Run the fitting\n",
    "    m3 = fitter(model, w3, f3, maxiter=1000)\n",
    "\n",
    "    print(fitter.fit_info['message'])\n",
    "\n",
    "    # Add units to the parameters for the data that was fit, and then transform\n",
    "    # the parameters to the original units of the data\n",
    "    m2 = m3.with_units_from_data(x=w2, y=f2)\n",
    "    m1 = m2.without_units_for_data(x=w1, y=f1)\n",
    "\n",
    "    return m1\n",
    "\n",
    "# Scale factor to make flux values look realistic (e.g in flam units)\n",
    "SCALE = 1e-44\n",
    "\n",
    "# Simulated Gaussian + linear. Two cases in which Gaussians \n",
    "# differ slightly in width.\n",
    "\n",
    "width1 = 0.05\n",
    "width2 = 0.03\n",
    "wave = np.linspace(1, 2, 100)\n",
    "f1 = (1.2 * SCALE * np.exp(-0.5 * (wave - 1.4)**2 / width1**2) +\n",
    "      SCALE * (0.01 + 0.5 * wave) + \n",
    "      SCALE / 10 * np.random.normal(0, 1, len(wave)))\n",
    "f2 = (1.2 * SCALE * np.exp(-0.5 * (wave - 1.4)**2 / width2**2) +\n",
    "      SCALE * (0.01 + 0.5 * wave) + \n",
    "      SCALE / 10 * np.random.normal(0, 1, len(wave)))\n",
    "\n",
    "model = models.Gaussian1D() + models.Linear1D()\n",
    "fitter = fitting.SLSQPLSQFitter()\n",
    "\n",
    "result_1 = perform_fit(fitter, model, wave, f1)\n",
    "result_2 = perform_fit(fitter, model, wave, f2)\n",
    "\n",
    "plt.figure(figsize=(10, 3))\n",
    "plt.subplot(121)\n",
    "plt.plot(wave, f1, 'k.')\n",
    "plt.plot(wave, result_1(wave), 'g-')\n",
    "plt.subplot(122)\n",
    "plt.plot(wave, f2, 'k.')\n",
    "plt.plot(wave, result_2(wave), 'g-')"
   ]
  },
  {
   "cell_type": "code",
   "execution_count": null,
   "metadata": {
    "collapsed": true
   },
   "outputs": [],
   "source": []
  }
 ],
 "metadata": {
  "kernelspec": {
   "display_name": "Python 3",
   "language": "python",
   "name": "python3"
  },
  "language_info": {
   "codemirror_mode": {
    "name": "ipython",
    "version": 3
   },
   "file_extension": ".py",
   "mimetype": "text/x-python",
   "name": "python",
   "nbconvert_exporter": "python",
   "pygments_lexer": "ipython3",
   "version": "3.5.3"
  }
 },
 "nbformat": 4,
 "nbformat_minor": 2
}
