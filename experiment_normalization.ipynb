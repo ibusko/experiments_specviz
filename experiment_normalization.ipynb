{
 "cells": [
  {
   "cell_type": "markdown",
   "metadata": {},
   "source": [
    "Testing normalization with units in a compound model setting. "
   ]
  },
  {
   "cell_type": "code",
   "execution_count": 1,
   "metadata": {},
   "outputs": [
    {
     "name": "stdout",
     "output_type": "stream",
     "text": [
      "Optimization terminated successfully.    (Exit mode 0)\n",
      "            Current function value: 0.2764721413020682\n",
      "            Iterations: 141\n",
      "            Function evaluations: 1058\n",
      "            Gradient evaluations: 141\n",
      "Optimization terminated successfully.\n",
      "Optimization terminated successfully.    (Exit mode 0)\n",
      "            Current function value: 1.32582717533902\n",
      "            Iterations: 61\n",
      "            Function evaluations: 458\n",
      "            Gradient evaluations: 61\n",
      "Optimization terminated successfully.\n"
     ]
    },
    {
     "data": {
      "text/plain": [
       "[<matplotlib.lines.Line2D at 0x111e71f60>]"
      ]
     },
     "execution_count": 1,
     "metadata": {},
     "output_type": "execute_result"
    },
    {
     "data": {
      "text/plain": [
       "<matplotlib.figure.Figure at 0x106678ef0>"
      ]
     },
     "metadata": {},
     "output_type": "display_data"
    },
    {
     "data": {
      "image/png": "[encoded data removed]",
      "text/plain": [
       "<matplotlib.figure.Figure at 0x111d06cf8>"
      ]
     },
     "metadata": {},
     "output_type": "display_data"
    }
   ],
   "source": [
    "import numpy as np\n",
    "import matplotlib.pyplot as plt\n",
    "%matplotlib inline\n",
    "\n",
    "plt.gcf().set_size_inches(8.,4.)\n",
    "\n",
    "from astropy import units as u\n",
    "from astropy.modeling import models, fitting\n",
    "\n",
    "def perform_fit(model, wave, flux):\n",
    "    # Set up fitter\n",
    "    slsqp_fitter = fitting.SLSQPLSQFitter()\n",
    "\n",
    "    # Define custom units for x and y\n",
    "    ux1 = u.def_unit('ux1')\n",
    "    uy1 = u.def_unit('uy1')\n",
    "    w1 = wave * ux1\n",
    "    f1 = flux * uy1\n",
    "\n",
    "    # Determine maximum values in each direction\n",
    "    wmax = np.max(np.abs(w1.value))\n",
    "    fmax = np.max(np.abs(f1.value))\n",
    "\n",
    "    # Define new units so that in this system, the data is always in the range\n",
    "    # [-1:1] in both directions and convert data to that frame.\n",
    "    ux2 = u.Unit(wmax * w1.unit)\n",
    "    uy2 = u.Unit(fmax * f1.unit)\n",
    "    w2 = w1.to(ux2)\n",
    "    f2 = f1.to(uy2)\n",
    "\n",
    "    # Strip away the units for the fitting\n",
    "    w3 = w2.value\n",
    "    f3 = f2.value\n",
    "\n",
    "    # Run the fitting\n",
    "    g3_new = slsqp_fitter(model, w3, f3, maxiter=1000)\n",
    "\n",
    "    print(slsqp_fitter.fit_info['message'])\n",
    "\n",
    "    # Add units to the parameters for the data that was fit, and then transform\n",
    "    # the parameters to the original units of the data\n",
    "    g2_new = g3_new.with_units_from_data(x=w2, y=f2)\n",
    "    g1_new = g2_new.without_units_for_data(x=w1, y=f1)\n",
    "\n",
    "    return g1_new\n",
    "\n",
    "# Scale flux to realistic values in flam\n",
    "SCALE = 1e-44\n",
    "\n",
    "# Simulated Gaussian + linear. Gaussians differ slightly in width.\n",
    "w1 = np.linspace(1, 2, 100)\n",
    "f1 = (1.2 * SCALE * np.exp(-0.5 * (w1 - 1.4)**2 / 0.05**2) +\n",
    "      SCALE * (0.01 + 0.5 * w1) + \n",
    "      SCALE / 10 * np.random.normal(0, 1, len(w1)))\n",
    "f2 = (1.2 * SCALE * np.exp(-0.5 * (w1 - 1.4)**2 / 0.03**2) +\n",
    "      SCALE * (0.01 + 0.5 * w1) + \n",
    "      SCALE / 10 * np.random.normal(0, 1, len(w1)))\n",
    "\n",
    "model = models.Gaussian1D() + models.Linear1D()\n",
    "\n",
    "result_1 = perform_fit(model, w1, f1)\n",
    "result_2 = perform_fit(model, w1, f2)\n",
    "\n",
    "plt.figure(figsize=(10, 3))\n",
    "plt.subplot(121)\n",
    "plt.plot(w1, f1, 'k.')\n",
    "plt.plot(w1, result_1(w1), 'g-')\n",
    "plt.subplot(122)\n",
    "plt.plot(w1, f2, 'k.')\n",
    "plt.plot(w1, result_2(w1), 'g-')"
   ]
  },
  {
   "cell_type": "code",
   "execution_count": null,
   "metadata": {
    "collapsed": true
   },
   "outputs": [],
   "source": []
  }
 ],
 "metadata": {
  "kernelspec": {
   "display_name": "Python 3",
   "language": "python",
   "name": "python3"
  },
  "language_info": {
   "codemirror_mode": {
    "name": "ipython",
    "version": 3
   },
   "file_extension": ".py",
   "mimetype": "text/x-python",
   "name": "python",
   "nbconvert_exporter": "python",
   "pygments_lexer": "ipython3",
   "version": "3.5.3"
  }
 },
 "nbformat": 4,
 "nbformat_minor": 2
}
